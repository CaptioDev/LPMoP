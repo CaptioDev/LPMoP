{
 "cells": [
  {
   "cell_type": "code",
   "execution_count": 5,
   "id": "826a6262-bb77-4a8c-b975-4ffbb0200c7a",
   "metadata": {},
   "outputs": [],
   "source": [
    "import praw\n",
    "import random\n",
    "\n",
    "# Reddit API credentials\n",
    "reddit = praw.Reddit(client_id='vZEvQ3R1PduL2emymWjgRg',\n",
    "                     client_secret='gN5lLZQF36VYMpLWB1zcgkS3ivsFGg',\n",
    "                     user_agent='RubiAI Alpha Testing Scrape v1.0.0a Reddit User: Dramatic_Cap9866; Chrome Version 109.0.5414.168 Official Build 64-bit')\n",
    "\n",
    "def scrape_reddit_pages(num_pages):\n",
    "    all_text = \"\"\n",
    "\n",
    "    # Specify subreddits to scrape\n",
    "    subreddits = ['AskReddit', 'worldnews', 'funny', 'gaming', 'pics', 'books', 'CryptoCurrency', 'gamedev', 'Economics']\n",
    "\n",
    "    for _ in range(num_pages):\n",
    "        # Select a random subreddit\n",
    "        subreddit = reddit.subreddit(random.choice(subreddits))\n",
    "        \n",
    "        # Get a random submission from the subreddit\n",
    "        submission = random.choice(list(subreddit.hot(limit=10)))\n",
    "        \n",
    "        # Append submission title and selftext to all_text\n",
    "        all_text += submission.title + \"\\n\" + submission.selftext + \"\\n\"\n",
    "\n",
    "    return all_text\n",
    "\n",
    "def save_to_file(text):\n",
    "    with open(\"train.txt\", \"w\", encoding=\"utf-8\") as file:\n",
    "        file.write(text)\n",
    "\n",
    "if __name__ == \"__main__\":\n",
    "    # Enter the number of Reddit pages to scrape\n",
    "    num_pages = 600  # Placeholder value, replace with desired number\n",
    "    \n",
    "    # Scrape Reddit pages\n",
    "    scraped_text = scrape_reddit_pages(num_pages)\n",
    "    \n",
    "    # Save scraped text to file\n",
    "    save_to_file(scraped_text)"
   ]
  },
  {
   "cell_type": "code",
   "execution_count": null,
   "id": "65ccfa12-5c89-478e-8e7e-b4bd2769287f",
   "metadata": {},
   "outputs": [],
   "source": []
  }
 ],
 "metadata": {
  "kernelspec": {
   "display_name": "Python 3 (ipykernel)",
   "language": "python",
   "name": "python3"
  },
  "language_info": {
   "codemirror_mode": {
    "name": "ipython",
    "version": 3
   },
   "file_extension": ".py",
   "mimetype": "text/x-python",
   "name": "python",
   "nbconvert_exporter": "python",
   "pygments_lexer": "ipython3",
   "version": "3.12.3"
  }
 },
 "nbformat": 4,
 "nbformat_minor": 5
}
